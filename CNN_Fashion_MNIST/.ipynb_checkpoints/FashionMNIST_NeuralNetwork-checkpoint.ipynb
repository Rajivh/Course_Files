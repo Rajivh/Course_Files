{
 "cells": [
  {
   "cell_type": "code",
   "execution_count": 27,
   "metadata": {},
   "outputs": [],
   "source": [
    "import torch \n",
    "from torch.autograd import Variable # for computational graphs\n",
    "import torch.nn as nn \n",
    "import torch.nn.functional as F # Non-linearities package\n",
    "import torch.optim as optim # Optimization package\n",
    "from torch.utils.data import Dataset, TensorDataset, DataLoader \n",
    "import torchvision\n",
    "import torchvision.transforms as transforms \n",
    "\n",
    "import matplotlib.pyplot as plt # for plotting\n",
    "import numpy as np"
   ]
  },
  {
   "cell_type": "code",
   "execution_count": 28,
   "metadata": {},
   "outputs": [],
   "source": [
    "#seed = 10\n",
    "#np.random.seed(seed)\n",
    "#torch.manual_seed(seed)"
   ]
  },
  {
   "cell_type": "code",
   "execution_count": 29,
   "metadata": {},
   "outputs": [],
   "source": [
    "transform = transforms.Compose(\n",
    "   [\n",
    "    transforms.ToTensor(),\n",
    "    transforms.Normalize(mean=(0.5,), std=(0.5,))# converts from PIL Image format to a FloatTensor format\n",
    "   ])\n",
    "\n",
    "trainset = torchvision.datasets.FashionMNIST(root='./data', train=True, download=True, transform=transform) \n",
    "trainloader = torch.utils.data.DataLoader(trainset, batch_size=4, shuffle=True)\n",
    "\n",
    "testset = torchvision.datasets.FashionMNIST(root='./data', train=False, download=True, transform=transform)\n",
    "testloader = torch.utils.data.DataLoader(testset, batch_size=4,shuffle=True)\n",
    "\n",
    "\n",
    "classes = ('T-shirt/top', 'Trouser', 'Pullover', 'Dress','Coat', 'Sandal', 'Shirt', 'Sneaker', 'Bag', 'Ankle boot')\n",
    "\n",
    "\n"
   ]
  },
  {
   "cell_type": "code",
   "execution_count": 30,
   "metadata": {},
   "outputs": [],
   "source": [
    "epochs = 10\n",
    "batch_size = 4\n",
    "learning_rate = 0.001\n",
    "\n",
    "number_input_units = 28*28\n",
    "number_hidden_1_units = 50\n",
    "#number_hidden_2_units = 100\n",
    "number_output_units = 10"
   ]
  },
  {
   "cell_type": "code",
   "execution_count": 31,
   "metadata": {},
   "outputs": [
    {
     "data": {
      "image/png": "[encoded data removed]",
      "text/plain": [
       "<matplotlib.figure.Figure at 0x12ab60dd8>"
      ]
     },
     "metadata": {},
     "output_type": "display_data"
    }
   ],
   "source": [
    "def show(img):\n",
    "    img = img / 2 + 0.5\n",
    "    npimg = img.numpy()\n",
    "    npimgt = np.transpose(npimg, (1,2,0))\n",
    "    #print(npimgt.shape[2])\n",
    "    plt.imshow(npimgt, interpolation='nearest')\n",
    "    plt.show()\n",
    "\n",
    "dataiter = iter(trainloader)\n",
    "#ig, labels = dataiter.next()\n",
    "images, labels = dataiter.next()\n",
    "\n",
    "#images=Tensor(images)\n",
    "\n",
    "show(torchvision.utils.make_grid(images))\n"
   ]
  },
  {
   "cell_type": "code",
   "execution_count": 32,
   "metadata": {},
   "outputs": [],
   "source": [
    "model = torch.nn.Sequential(\n",
    "\n",
    "torch.nn.Linear(number_input_units, number_hidden_1_units),\n",
    "torch.nn.ReLU(),\n",
    "#torch.nn.Linear(number_hidden_1_units, number_hidden_2_units),\n",
    "torch.nn.Linear(number_hidden_1_units, number_output_units),\n",
    "torch.nn.ReLU()\n",
    ")\n",
    "\n",
    "loss_function = nn.CrossEntropyLoss()\n",
    "optimizer = optim.SGD(model.parameters(), lr = learning_rate)"
   ]
  },
  {
   "cell_type": "code",
   "execution_count": 33,
   "metadata": {},
   "outputs": [
    {
     "name": "stdout",
     "output_type": "stream",
     "text": [
      "[]\n",
      "Iteration1\n",
      "Accuracy of the NN network on the training images: 67 %\n",
      "total 60000\n",
      "accurancy [tensor(67)]\n",
      "Iteration2\n",
      "Accuracy of the NN network on the training images: 73 %\n",
      "total 60000\n",
      "accurancy [tensor(67), tensor(73)]\n",
      "Iteration3\n",
      "Accuracy of the NN network on the training images: 75 %\n",
      "total 60000\n",
      "accurancy [tensor(67), tensor(73), tensor(75)]\n",
      "Iteration4\n",
      "Accuracy of the NN network on the training images: 84 %\n",
      "total 60000\n",
      "accurancy [tensor(67), tensor(73), tensor(75), tensor(84)]\n",
      "Iteration5\n",
      "Accuracy of the NN network on the training images: 85 %\n",
      "total 60000\n",
      "accurancy [tensor(67), tensor(73), tensor(75), tensor(84), tensor(85)]\n",
      "Iteration6\n",
      "Accuracy of the NN network on the training images: 85 %\n",
      "total 60000\n",
      "accurancy [tensor(67), tensor(73), tensor(75), tensor(84), tensor(85), tensor(85)]\n",
      "Iteration7\n",
      "Accuracy of the NN network on the training images: 86 %\n",
      "total 60000\n",
      "accurancy [tensor(67), tensor(73), tensor(75), tensor(84), tensor(85), tensor(85), tensor(86)]\n",
      "Iteration8\n",
      "Accuracy of the NN network on the training images: 86 %\n",
      "total 60000\n",
      "accurancy [tensor(67), tensor(73), tensor(75), tensor(84), tensor(85), tensor(85), tensor(86), tensor(86)]\n",
      "Iteration9\n",
      "Accuracy of the NN network on the training images: 87 %\n",
      "total 60000\n",
      "accurancy [tensor(67), tensor(73), tensor(75), tensor(84), tensor(85), tensor(85), tensor(86), tensor(86), tensor(87)]\n",
      "Iteration10\n",
      "Accuracy of the NN network on the training images: 87 %\n",
      "total 60000\n",
      "accurancy [tensor(67), tensor(73), tensor(75), tensor(84), tensor(85), tensor(85), tensor(86), tensor(86), tensor(87), tensor(87)]\n"
     ]
    },
    {
     "data": {
      "image/png": "[encoded data removed]",
      "text/plain": [
       "<matplotlib.figure.Figure at 0x12ab6cba8>"
      ]
     },
     "metadata": {},
     "output_type": "display_data"
    }
   ],
   "source": [
    "nn_training_correct = 0\n",
    "nn_accuracy_array = []\n",
    "total = 0\n",
    "nn_epoch_array = []\n",
    "print(nn_accuracy_array)\n",
    "\n",
    "for epoch in range(epochs):\n",
    "    total = 0\n",
    "    nn_training_correct = 0\n",
    "    for i, (images, labels) in enumerate(iter(trainloader)):\n",
    "        \n",
    "        model.zero_grad()\n",
    "        images = images.view(-1, 784)\n",
    "        predicted_output = model(Variable(images))\n",
    "        loss = loss_function(predicted_output, Variable(labels))\n",
    "        loss.backward()\n",
    "        optimizer.step()\n",
    "        \n",
    "        _, nn_training_predicted = torch.max(predicted_output.data, 1)\n",
    "        \n",
    "        total += labels.size(0)\n",
    "        nn_training_correct += (nn_training_predicted == labels).sum()\n",
    "    \n",
    "        \n",
    "        #print(loss)\n",
    "    print(\"Iteration\" + str(epoch+1))\n",
    "    print('Accuracy of the NN network on the training images: %d %%' % (100 * nn_training_correct / total))\n",
    "    \n",
    "    nn_accuracy_array.append((100 * nn_training_correct / total))\n",
    "    nn_epoch_array.append(epoch+1)\n",
    "    print(\"total\",total)\n",
    "    print(\"accurancy\", nn_accuracy_array)\n",
    "\n",
    "plt.plot(nn_epoch_array, nn_accuracy_array)\n",
    "plt.xlabel(\"Epochs\")\n",
    "plt.ylabel(\"Accuracy\")\n",
    "plt.title(\"MLFF - Accuracy over Epochs\")\n",
    "plt.show()\n",
    "    "
   ]
  },
  {
   "cell_type": "code",
   "execution_count": 8,
   "metadata": {},
   "outputs": [
    {
     "data": {
      "image/png": "[encoded data removed]",
      "text/plain": [
       "<matplotlib.figure.Figure at 0x1255214a8>"
      ]
     },
     "metadata": {},
     "output_type": "display_data"
    },
    {
     "name": "stdout",
     "output_type": "stream",
     "text": [
      "(tensor([  9.8955,  10.5700,   8.1024,  12.8054]), tensor([ 7,  2,  7,  4]))\n",
      "Predicted:  Sneaker Pullover Sneaker  Coat\n",
      "GroundTruth:  Sneaker Dress Sneaker  Coat\n"
     ]
    }
   ],
   "source": [
    "dataiter = iter(testloader)\n",
    "images, labels = dataiter.next()\n",
    "show(torchvision.utils.make_grid(images))\n",
    "images = images.view(-1, 784)\n",
    "outputs = model(Variable(images))\n",
    "_, predicted = torch.max(outputs.data, 1)\n",
    "print(torch.max(outputs.data, 1))\n",
    "\n",
    "print('Predicted: ', ' '.join('%5s' % classes[predicted[j]]\n",
    "                              for j in range(4)))\n",
    "print('GroundTruth: ', ' '.join('%5s' % classes[labels[j]] for j in range(4)))"
   ]
  },
  {
   "cell_type": "code",
   "execution_count": 9,
   "metadata": {},
   "outputs": [
    {
     "name": "stdout",
     "output_type": "stream",
     "text": [
      "Accuracy of the network on the 10000 test images: 76 %\n"
     ]
    }
   ],
   "source": [
    "correct = 0\n",
    "total = 0\n",
    "for data in testloader:\n",
    "    images, labels = data\n",
    "    images = images.view(-1, 784)\n",
    "    outputs = model(Variable(images))\n",
    "    _, predicted = torch.max(outputs.data, 1)\n",
    "    total += labels.size(0)\n",
    "    correct += (predicted == labels).sum()\n",
    "print('Accuracy of the network on the ' + str(total) + ' test images: %d %%' % (\n",
    "    100 * correct / total))\n"
   ]
  },
  {
   "cell_type": "code",
   "execution_count": 16,
   "metadata": {},
   "outputs": [],
   "source": [
    "from sklearn.ensemble import VotingClassifier"
   ]
  },
  {
   "cell_type": "code",
   "execution_count": null,
   "metadata": {},
   "outputs": [],
   "source": []
  }
 ],
 "metadata": {
  "kernelspec": {
   "display_name": "Python 3",
   "language": "python",
   "name": "python3"
  },
  "language_info": {
   "codemirror_mode": {
    "name": "ipython",
    "version": 3
   },
   "file_extension": ".py",
   "mimetype": "text/x-python",
   "name": "python",
   "nbconvert_exporter": "python",
   "pygments_lexer": "ipython3",
   "version": "3.6.3"
  }
 },
 "nbformat": 4,
 "nbformat_minor": 2
}
